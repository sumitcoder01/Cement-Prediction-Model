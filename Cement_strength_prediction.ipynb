{
  "nbformat": 4,
  "nbformat_minor": 0,
  "metadata": {
    "colab": {
      "provenance": []
    },
    "kernelspec": {
      "name": "python3",
      "display_name": "Python 3"
    },
    "language_info": {
      "name": "python"
    }
  },
  "cells": [
    {
      "cell_type": "markdown",
      "source": [
        "# **Cement Strength Prediction**"
      ],
      "metadata": {
        "id": "Q6_wEZ8GPPzP"
      }
    },
    {
      "cell_type": "code",
      "execution_count": 58,
      "metadata": {
        "id": "7nXkv2dpPMQ6"
      },
      "outputs": [],
      "source": [
        "# importing neccessary modules\n",
        "import pandas as pd\n",
        "import numpy as np\n",
        "import matplotlib.pyplot as plt\n",
        "import seaborn as sns\n",
        "import scipy.stats as stats\n",
        "from sklearn.compose import ColumnTransformer"
      ]
    },
    {
      "cell_type": "markdown",
      "source": [
        "## **Data Gathering**"
      ],
      "metadata": {
        "id": "K2eVZiS-QFui"
      }
    },
    {
      "cell_type": "code",
      "source": [
        "# loading dataset\n",
        "df= pd.read_csv('concrete_data.csv')\n",
        "df.sample(5)"
      ],
      "metadata": {
        "id": "38oCsbzvQnAn"
      },
      "execution_count": null,
      "outputs": []
    },
    {
      "cell_type": "markdown",
      "source": [
        "## Data Analysis"
      ],
      "metadata": {
        "id": "oXSfpCLuTQ38"
      }
    },
    {
      "cell_type": "code",
      "source": [
        "# checking number of duplicates and null values\n",
        "df.isna().sum()\n",
        "df.duplicated().sum()\n",
        "df.drop_duplicates(subset=df.columns[:-1], inplace=True)"
      ],
      "metadata": {
        "id": "XskLK2iUTVXR"
      },
      "execution_count": 167,
      "outputs": []
    },
    {
      "cell_type": "code",
      "source": [
        "# ploting graphs before transformation\n",
        "for col in df.columns:\n",
        "  fig= plt.figure(figsize=(8,4))\n",
        "  plt.subplot(121)\n",
        "  stats.probplot(df[col],dist=\"norm\",plot=plt)\n",
        "  plt.title(col)\n",
        "  plt.show()"
      ],
      "metadata": {
        "id": "wz6x7ntKVaoF"
      },
      "execution_count": null,
      "outputs": []
    },
    {
      "cell_type": "code",
      "source": [
        "df.describe()"
      ],
      "metadata": {
        "id": "rRxWuJj5fcce"
      },
      "execution_count": null,
      "outputs": []
    },
    {
      "cell_type": "markdown",
      "source": [
        "## **Train Test split**"
      ],
      "metadata": {
        "id": "lIkDwcPjSiQy"
      }
    },
    {
      "cell_type": "code",
      "source": [
        "# train test split dataset\n",
        "from sklearn.model_selection import train_test_split\n",
        "X= df.iloc[:,0:8]\n",
        "y=df.iloc[:,-1]\n",
        "X_train, X_test, y_train, y_test = train_test_split(X, y, test_size=0.2)"
      ],
      "metadata": {
        "id": "XcIV_OusRC-v"
      },
      "execution_count": 140,
      "outputs": []
    },
    {
      "cell_type": "markdown",
      "source": [
        "## **Data Preprocessing**"
      ],
      "metadata": {
        "id": "8SD7e1jMZepe"
      }
    },
    {
      "cell_type": "code",
      "source": [
        "# Power Transform and Scaling\n",
        "from sklearn.preprocessing import PowerTransformer\n",
        "power=ColumnTransformer([\n",
        "    ('norm',PowerTransformer(method='yeo-johnson'),slice(8))\n",
        "],remainder='passthrough')\n",
        "X_train_transformed_1=power.fit_transform(X_train)\n",
        "X_train_transformed_1=pd.DataFrame(X_train_transformed_1,columns=X_train.columns)\n",
        "X_train_transformed_1"
      ],
      "metadata": {
        "id": "zYt-EJYRZqMn"
      },
      "execution_count": null,
      "outputs": []
    },
    {
      "cell_type": "markdown",
      "source": [
        "# **training modal**"
      ],
      "metadata": {
        "id": "JEGN2CNPchfF"
      }
    },
    {
      "cell_type": "code",
      "source": [
        "# train the modal\n",
        "from sklearn.linear_model import LinearRegression\n",
        "modal = LinearRegression()"
      ],
      "metadata": {
        "id": "jnDPC1-FcUDx"
      },
      "execution_count": 142,
      "outputs": []
    },
    {
      "cell_type": "markdown",
      "source": [
        "## **Creating Pipeline**"
      ],
      "metadata": {
        "id": "0moQ2SSVm1iS"
      }
    },
    {
      "cell_type": "code",
      "source": [
        "# creating pipeline\n",
        "from sklearn.pipeline import make_pipeline\n",
        "pipe = make_pipeline(power,modal)"
      ],
      "metadata": {
        "id": "jCBtwyeMm6_c"
      },
      "execution_count": 143,
      "outputs": []
    },
    {
      "cell_type": "code",
      "source": [
        "# Display Pipeline\n",
        "from sklearn import set_config\n",
        "set_config(display='diagram')"
      ],
      "metadata": {
        "id": "tcSgMYs7nUWe"
      },
      "execution_count": 144,
      "outputs": []
    },
    {
      "cell_type": "code",
      "source": [
        "# train\n",
        "pipe.fit(X_train,y_train)"
      ],
      "metadata": {
        "id": "whCgXjW2nZjE"
      },
      "execution_count": null,
      "outputs": []
    },
    {
      "cell_type": "markdown",
      "source": [
        "## **Modal Evaluation**"
      ],
      "metadata": {
        "id": "WTTjORqYnwZW"
      }
    },
    {
      "cell_type": "code",
      "source": [
        "# accuracy_Score\n",
        "from sklearn.metrics import r2_score\n",
        "y_pred = pipe.predict(X_test)\n",
        "r2_score(y_test, y_pred)"
      ],
      "metadata": {
        "id": "C8bZ_AS_n1dp"
      },
      "execution_count": null,
      "outputs": []
    },
    {
      "cell_type": "markdown",
      "source": [
        "# **Cross Validation**"
      ],
      "metadata": {
        "id": "Ez_XpXw3qMY5"
      }
    },
    {
      "cell_type": "code",
      "source": [
        "# cross validation using cross_val_score\n",
        "from sklearn.model_selection import cross_val_score\n",
        "cross_val_score(pipe,X_test,y_test,cv=10,scoring='r2').mean()"
      ],
      "metadata": {
        "id": "1P2l7saoqY1d"
      },
      "execution_count": null,
      "outputs": []
    },
    {
      "cell_type": "markdown",
      "source": [
        "# **Exporting Modal**"
      ],
      "metadata": {
        "id": "AVUnRShvsk0H"
      }
    },
    {
      "cell_type": "code",
      "source": [
        "#export pipeline\n",
        "import pickle\n",
        "pickle.dump(pipe,open('pipe.pkl','wb'))"
      ],
      "metadata": {
        "id": "nlnllhxwsj_f"
      },
      "execution_count": 155,
      "outputs": []
    }
  ]
}