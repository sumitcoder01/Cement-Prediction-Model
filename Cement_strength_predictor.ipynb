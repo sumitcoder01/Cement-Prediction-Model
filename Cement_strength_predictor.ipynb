{
  "nbformat": 4,
  "nbformat_minor": 0,
  "metadata": {
    "colab": {
      "provenance": []
    },
    "kernelspec": {
      "name": "python3",
      "display_name": "Python 3"
    },
    "language_info": {
      "name": "python"
    }
  },
  "cells": [
    {
      "cell_type": "markdown",
      "source": [
        "# **Cement Strength Predictor**"
      ],
      "metadata": {
        "id": "n8fpE89Otphs"
      }
    },
    {
      "cell_type": "code",
      "execution_count": 1,
      "metadata": {
        "id": "FLE3e34StYKX"
      },
      "outputs": [],
      "source": [
        "# importing neccesary modules\n",
        "import pickle\n",
        "import pandas as pd\n",
        "import numpy as np"
      ]
    },
    {
      "cell_type": "code",
      "source": [
        "# load pipe\n",
        "pipe = pickle.load(open('pipe.pkl','rb'))"
      ],
      "metadata": {
        "id": "umylo7S2uNGZ"
      },
      "execution_count": 2,
      "outputs": []
    },
    {
      "cell_type": "code",
      "source": [
        "#Assume user input\n",
        "test_inputs = np.array([[500.0,38.0,0.0,228.0,0.0,932.0,670.0,180],[123.0,38.0,0.2,228.0,1.0,932.0,670.0,80]],dtype=object)\n",
        "inputs = pd.DataFrame(test_inputs, columns=['cement','blast_furnace_slag','fly_ash','water','superplasticizer','coarse_aggregate', 'fine_aggregate ', 'age'])"
      ],
      "metadata": {
        "id": "67FzfeHruTVg"
      },
      "execution_count": 3,
      "outputs": []
    },
    {
      "cell_type": "code",
      "source": [
        "# predict output\n",
        "pipe.predict(inputs)"
      ],
      "metadata": {
        "id": "KuXBnZ3wuWQ1"
      },
      "execution_count": null,
      "outputs": []
    }
  ]
}